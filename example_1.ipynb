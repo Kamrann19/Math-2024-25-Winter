{
  "nbformat": 4,
  "nbformat_minor": 0,
  "metadata": {
    "colab": {
      "provenance": [],
      "include_colab_link": true
    },
    "kernelspec": {
      "name": "python3",
      "display_name": "Python 3"
    },
    "language_info": {
      "name": "python"
    }
  },
  "cells": [
    {
      "cell_type": "markdown",
      "metadata": {
        "id": "view-in-github",
        "colab_type": "text"
      },
      "source": [
        "<a href=\"https://colab.research.google.com/github/Kamrann19/Math-2024-25-Winter/blob/main/example_1.ipynb\" target=\"_parent\"><img src=\"https://colab.research.google.com/assets/colab-badge.svg\" alt=\"Open In Colab\"/></a>"
      ]
    },
    {
      "cell_type": "code",
      "source": [
        "import sympy as sp\n",
        "A=(1,2)\n",
        "B=(3,4)\n",
        "m=(B[1]-A[1])/(B[0]-A[0])\n",
        "m"
      ],
      "metadata": {
        "id": "LqItIWt0g7mb",
        "colab": {
          "base_uri": "https://localhost:8080/"
        },
        "outputId": "e9902810-6e9d-4f1b-ac53-d911656c9853"
      },
      "execution_count": null,
      "outputs": [
        {
          "output_type": "execute_result",
          "data": {
            "text/plain": [
              "1.0"
            ]
          },
          "metadata": {},
          "execution_count": 1
        }
      ]
    },
    {
      "cell_type": "code",
      "source": [
        "b=A[1]-m*A[0]\n",
        "b"
      ],
      "metadata": {
        "colab": {
          "base_uri": "https://localhost:8080/"
        },
        "id": "uwxJ7ldGxJZQ",
        "outputId": "fb345450-d1f4-443b-d0f1-e68f617aef35"
      },
      "execution_count": null,
      "outputs": [
        {
          "output_type": "execute_result",
          "data": {
            "text/plain": [
              "1.0"
            ]
          },
          "metadata": {},
          "execution_count": 4
        }
      ]
    },
    {
      "cell_type": "code",
      "source": [
        "A=(1,2)\n",
        "m=2\n",
        "b=A[1]-m*A[0]\n",
        "print(f'y = {m}x + {b}')"
      ],
      "metadata": {
        "colab": {
          "base_uri": "https://localhost:8080/"
        },
        "id": "COcw8mJ0xgwR",
        "outputId": "70f4d1b7-1076-4042-c463-d928967c3e3f"
      },
      "execution_count": null,
      "outputs": [
        {
          "output_type": "stream",
          "name": "stdout",
          "text": [
            "y = 2x + 0\n"
          ]
        }
      ]
    },
    {
      "cell_type": "code",
      "source": [
        "A=(1,2)\n",
        "m=-1/2\n",
        "b=A[1]-m*A[0]\n",
        "print(f'y={m}x+{b}')\n"
      ],
      "metadata": {
        "colab": {
          "base_uri": "https://localhost:8080/"
        },
        "id": "4Pf3r_AlyobT",
        "outputId": "e8e12813-c857-41e3-f095-aabbd6d7c106"
      },
      "execution_count": null,
      "outputs": [
        {
          "output_type": "stream",
          "name": "stdout",
          "text": [
            "y=-0.5x+2.5\n"
          ]
        }
      ]
    },
    {
      "cell_type": "code",
      "source": [
        "import math\n",
        "m1=2\n",
        "m2=3\n",
        "x=(3-2)/(3-2)\n",
        "x"
      ],
      "metadata": {
        "colab": {
          "base_uri": "https://localhost:8080/"
        },
        "id": "TO3iJptty_XE",
        "outputId": "a17c8b56-1b30-4060-d039-1ca4844c1cbb"
      },
      "execution_count": null,
      "outputs": [
        {
          "output_type": "execute_result",
          "data": {
            "text/plain": [
              "1.0"
            ]
          },
          "metadata": {},
          "execution_count": 10
        }
      ]
    },
    {
      "cell_type": "code",
      "source": [
        "y=2*x+3\n",
        "y"
      ],
      "metadata": {
        "colab": {
          "base_uri": "https://localhost:8080/"
        },
        "id": "4yjlqVEc3adU",
        "outputId": "14398e47-0c67-4334-f48e-f11ef6c49e58"
      },
      "execution_count": null,
      "outputs": [
        {
          "output_type": "execute_result",
          "data": {
            "text/plain": [
              "5.0"
            ]
          },
          "metadata": {},
          "execution_count": 11
        }
      ]
    },
    {
      "cell_type": "code",
      "source": [
        "tan_theta = abs((m2 - m1) / (1 + m1 * m2))\n",
        "theta = math.degrees(math.atan(tan_theta))\n",
        "theta"
      ],
      "metadata": {
        "colab": {
          "base_uri": "https://localhost:8080/"
        },
        "id": "oL-oJchy3eqQ",
        "outputId": "18f7069b-8722-4657-d5a5-9ba0cf6ea4ea"
      },
      "execution_count": null,
      "outputs": [
        {
          "output_type": "execute_result",
          "data": {
            "text/plain": [
              "8.130102354155978"
            ]
          },
          "metadata": {},
          "execution_count": 12
        }
      ]
    },
    {
      "cell_type": "code",
      "source": [
        "x1 , y1 = 1,2\n",
        "m = 3/2\n",
        "#formula is y - y1 = m*(x-x1)\n",
        "b = y1 - m * x1\n",
        "b"
      ],
      "metadata": {
        "colab": {
          "base_uri": "https://localhost:8080/"
        },
        "id": "k0wugVzu4ekd",
        "outputId": "59ecb3d9-b8e0-4a44-bb43-5e100a6e403d"
      },
      "execution_count": null,
      "outputs": [
        {
          "output_type": "execute_result",
          "data": {
            "text/plain": [
              "0.5"
            ]
          },
          "metadata": {},
          "execution_count": 13
        }
      ]
    },
    {
      "cell_type": "code",
      "source": [
        "print(f\"y={m}x+{b}\")\n"
      ],
      "metadata": {
        "colab": {
          "base_uri": "https://localhost:8080/"
        },
        "id": "MV6p7uGa4pE7",
        "outputId": "34c7b316-198f-4dce-8717-9ea620beb003"
      },
      "execution_count": null,
      "outputs": [
        {
          "output_type": "stream",
          "name": "stdout",
          "text": [
            "y=1.5x+0.5\n"
          ]
        }
      ]
    },
    {
      "cell_type": "code",
      "source": [
        "import random\n",
        "m=2\n",
        "b=random.randint(1,9)\n",
        "print(f\"y={m}x+{b}\")\n",
        "mperpendicular = -1/m\n",
        "bperpendicular = random.randint(1,9)\n",
        "print(f\"y={mperpendicular}x+{bperpendicular}\")"
      ],
      "metadata": {
        "colab": {
          "base_uri": "https://localhost:8080/"
        },
        "id": "4d7sCG9G4xar",
        "outputId": "ff0457da-93a9-4326-d6de-6b4245df04c9"
      },
      "execution_count": null,
      "outputs": [
        {
          "output_type": "stream",
          "name": "stdout",
          "text": [
            "y=2x+5\n",
            "y=-0.5x+9\n"
          ]
        }
      ]
    },
    {
      "cell_type": "code",
      "source": [
        "A= 2\n",
        "B= -1\n",
        "C= 3\n",
        "x1= 1\n",
        "y1 = 2\n",
        "denominator = math.sqrt(A*2 + B*2)\n",
        "d = (2*1 - 1*2 + 3) / denominator\n",
        "d"
      ],
      "metadata": {
        "colab": {
          "base_uri": "https://localhost:8080/"
        },
        "id": "L2Zwuu2z4-bl",
        "outputId": "90d35d0b-6afc-4bed-f6ee-8dae8803b27a"
      },
      "execution_count": null,
      "outputs": [
        {
          "output_type": "execute_result",
          "data": {
            "text/plain": [
              "2.1213203435596424"
            ]
          },
          "metadata": {},
          "execution_count": 16
        }
      ]
    },
    {
      "cell_type": "code",
      "source": [
        "x1 ,y1 = 2, 0\n",
        "x2 ,y2 = 0, 3\n",
        "m = (y2-y1)/(x2-x1)\n",
        "m\n",
        "\n",
        "b = y1 -m *x1 # Calculates y intercept\n",
        "b\n",
        "print(f\"y = {m}x + {b}\")\n",
        "\n",
        "\n",
        "#Calculate the angle between the line y = x+3 and the 0x axis\n",
        "m=1\n",
        "#tan=m tan=1=45 degree\n",
        "theta = math.degrees(math.atan(m))\n",
        "theta\n"
      ],
      "metadata": {
        "colab": {
          "base_uri": "https://localhost:8080/"
        },
        "id": "omnuyH3I5TMi",
        "outputId": "5720bb23-ca75-472a-998a-b9bfc647257d"
      },
      "execution_count": null,
      "outputs": [
        {
          "output_type": "stream",
          "name": "stdout",
          "text": [
            "y = -1.5x + 3.0\n"
          ]
        },
        {
          "output_type": "execute_result",
          "data": {
            "text/plain": [
              "45.0"
            ]
          },
          "metadata": {},
          "execution_count": 17
        }
      ]
    },
    {
      "cell_type": "code",
      "source": [
        "A,B = [1,1]\n",
        "vector = [-B,A]\n",
        "vector"
      ],
      "metadata": {
        "colab": {
          "base_uri": "https://localhost:8080/"
        },
        "id": "JgEZWnqx5ZTR",
        "outputId": "e55e6a0b-06f8-4ffd-9e27-5b3202c7263a"
      },
      "execution_count": null,
      "outputs": [
        {
          "output_type": "execute_result",
          "data": {
            "text/plain": [
              "[-1, 1]"
            ]
          },
          "metadata": {},
          "execution_count": 18
        }
      ]
    }
  ]
}